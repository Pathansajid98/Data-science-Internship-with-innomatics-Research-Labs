{
 "cells": [
  {
   "cell_type": "markdown",
   "metadata": {},
   "source": [
    "# Task 1 Data science Internship with innomatics Research Labs\n",
    "\n",
    "Task = Track the Missing values and Duplicate Number in given list without using set function"
   ]
  },
  {
   "cell_type": "code",
   "execution_count": 6,
   "metadata": {},
   "outputs": [],
   "source": [
    "my_list = [1,2,4,3,5,7,8,9,4,10,11,12,13,14,15,16,17,18,19,20]"
   ]
  },
  {
   "cell_type": "code",
   "execution_count": 7,
   "metadata": {},
   "outputs": [],
   "source": [
    "def duplicate_number_and_missing_value(my_list):\n",
    "    remove_repeat = []\n",
    "    for i in my_list :\n",
    "        if i not in remove_repeat:\n",
    "            remove_repeat.append(i)\n",
    "        else:\n",
    "            repeated = i\n",
    "    n = len(remove_repeat)+1\n",
    "    for i in range(1,n+1):\n",
    "        if i not in remove_repeat:\n",
    "            missing = i\n",
    "    \n",
    "    print(\"List = \",my_list)\n",
    "    print(\"Repeated Number = \",repeated)\n",
    "    print(\"Missing Number = \",missing)"
   ]
  },
  {
   "cell_type": "code",
   "execution_count": 8,
   "metadata": {},
   "outputs": [
    {
     "name": "stdout",
     "output_type": "stream",
     "text": [
      "List =  [1, 2, 4, 3, 5, 7, 8, 9, 4, 10, 11, 12, 13, 14, 15, 16, 17, 18, 19, 20]\n",
      "Repeated Number =  4\n",
      "Missing Number =  6\n"
     ]
    }
   ],
   "source": [
    "duplicate_number_and_missing_value(my_list)"
   ]
  }
 ],
 "metadata": {
  "kernelspec": {
   "display_name": "Python 3",
   "language": "python",
   "name": "python3"
  },
  "language_info": {
   "codemirror_mode": {
    "name": "ipython",
    "version": 3
   },
   "file_extension": ".py",
   "mimetype": "text/x-python",
   "name": "python",
   "nbconvert_exporter": "python",
   "pygments_lexer": "ipython3",
   "version": "3.8.5"
  }
 },
 "nbformat": 4,
 "nbformat_minor": 4
}
