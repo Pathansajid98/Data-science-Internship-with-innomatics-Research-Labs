{
 "cells": [
  {
   "cell_type": "markdown",
   "metadata": {},
   "source": [
    "# Task 8 Data science Internship with innomatics Research Labs\n",
    "\n",
    "Assignment Name\n",
    "\n",
    "Task - 8 (Stats - Both basic and Adv user)"
   ]
  },
  {
   "cell_type": "markdown",
   "metadata": {},
   "source": [
    "Problem Number 1 \n",
    "\n",
    "Binomial Distribution I"
   ]
  },
  {
   "cell_type": "code",
   "execution_count": 2,
   "metadata": {},
   "outputs": [
    {
     "name": "stdout",
     "output_type": "stream",
     "text": [
      "0.696\n"
     ]
    }
   ],
   "source": [
    "import math\n",
    "\n",
    "\n",
    "p = 1.09/(1+1.09)\n",
    "ans = 0\n",
    "for i in range(3):\n",
    "     ans += math.factorial(6) / math.factorial(i) / math.factorial(6-i) * p**i * (1-p)**(6-i)\n",
    "    \n",
    "print(round(1-ans, 3))\n"
   ]
  },
  {
   "cell_type": "markdown",
   "metadata": {},
   "source": [
    "Problem Number 2\n",
    "\n",
    "Binomial Distribution II\n",
    "\n"
   ]
  },
  {
   "cell_type": "code",
   "execution_count": 4,
   "metadata": {},
   "outputs": [
    {
     "name": "stdout",
     "output_type": "stream",
     "text": [
      "12 10\n",
      "0.737\n"
     ]
    }
   ],
   "source": [
    "def fact(n):\n",
    "    return 1 if n == 0 else n*fact(n-1)\n",
    "\n",
    "def comb(n, x):\n",
    "    return fact(n) / (fact(x) * fact(n-x))\n",
    "\n",
    "def b(x, n, p):\n",
    "    return comb(n, x) * p**x * (1-p)**(n-x)\n",
    "\n",
    "l, r = list(map(float, input().split(\" \")))\n",
    "odds = l / r\n",
    "print(round(sum([b(i, 6, odds / (1 + odds)) for i in range(3, 7)]), 3))"
   ]
  },
  {
   "cell_type": "markdown",
   "metadata": {},
   "source": [
    "Problem Number 3\n",
    "\n",
    "Normal Distribution I\n",
    "\n"
   ]
  },
  {
   "cell_type": "code",
   "execution_count": 5,
   "metadata": {},
   "outputs": [
    {
     "name": "stdout",
     "output_type": "stream",
     "text": [
      "15.87\n",
      "84.13\n",
      "15.87\n"
     ]
    }
   ],
   "source": [
    "import math\n",
    "mean, std = 70, 10\n",
    "cdf = lambda x: 0.5 * (1 + math.erf((x - mean) / (std * (2 ** 0.5))))\n",
    "\n",
    "\n",
    "print(round((1-cdf(80))*100,2))\n",
    "print(round((1-cdf(60))*100,2))\n",
    "print(round((cdf(60))*100,2))"
   ]
  },
  {
   "cell_type": "markdown",
   "metadata": {},
   "source": [
    "Problem Number 4\n",
    "\n",
    "Normal Distribution II\n"
   ]
  },
  {
   "cell_type": "code",
   "execution_count": 12,
   "metadata": {},
   "outputs": [
    {
     "name": "stdout",
     "output_type": "stream",
     "text": [
      "70 10\n",
      "80\n",
      "60\n",
      "15.87\n",
      "84.13\n",
      "15.87\n"
     ]
    }
   ],
   "source": [
    "import math\n",
    "\n",
    "MU, SD = list(map(float, input().rstrip().split()))\n",
    "X_1 = float(input())\n",
    "X_2 = float(input())\n",
    "\n",
    "def normal_distribution(X, MU, SD):\n",
    "    '''Function to calculate the normal distribution'''\n",
    "    return 1/2*(1+math.erf((X-MU)/(SD*math.sqrt(2))))\n",
    "\n",
    "# grade >80\n",
    "print(round((1-normal_distribution(X_1, MU, SD))*100, 2))\n",
    "\n",
    "# grade >= 60\n",
    "print(round((1-normal_distribution(X_2, MU, SD))*100, 2))\n",
    "\n",
    "# grade <60\n",
    "print(round((normal_distribution(X_2, MU, SD))*100, 2))"
   ]
  },
  {
   "cell_type": "markdown",
   "metadata": {},
   "source": [
    "Problem Number 5\n",
    "\n",
    "The Central Limit Theorem I\n",
    "\n"
   ]
  },
  {
   "cell_type": "code",
   "execution_count": 11,
   "metadata": {},
   "outputs": [
    {
     "name": "stdout",
     "output_type": "stream",
     "text": [
      "900\n",
      "49\n",
      "205\n",
      "15\n",
      "0.0\n"
     ]
    }
   ],
   "source": [
    "import math\n",
    "\n",
    "H = int(input())\n",
    "B = int(input())\n",
    "C = int(input())\n",
    "INPUT = math.sqrt(B) * int(input())\n",
    "\n",
    "print(round(0.5 * (1 + math.erf((H - (B * C)) / (INPUT * math.sqrt(2)))), 4))"
   ]
  },
  {
   "cell_type": "markdown",
   "metadata": {},
   "source": [
    "Problem Number 6\n",
    "\n",
    "The Central Limit Theorem II\n"
   ]
  },
  {
   "cell_type": "code",
   "execution_count": 13,
   "metadata": {},
   "outputs": [
    {
     "name": "stdout",
     "output_type": "stream",
     "text": [
      "0.6915\n"
     ]
    }
   ],
   "source": [
    "import math\n",
    "\n",
    "TICKETS = 250\n",
    "STUDENTS = 100\n",
    "MEAN = 2.4\n",
    "SD = 2\n",
    "\n",
    "MU = STUDENTS * MEAN\n",
    "S = math.sqrt(100)*SD\n",
    "\n",
    "def normal_distribution(x, mu, sd):\n",
    "    '''Function to calculate the distribution'''\n",
    "    return 1/2*(1+math.erf((x-mu)/(sd*math.sqrt(2))))\n",
    "\n",
    "print(round(normal_distribution(x=TICKETS, mu=MU, sd=S), 4))"
   ]
  },
  {
   "cell_type": "markdown",
   "metadata": {},
   "source": [
    "Problem Number 7\n",
    "\n",
    "The Central Limit Theorem III\n",
    "\n"
   ]
  },
  {
   "cell_type": "code",
   "execution_count": 6,
   "metadata": {},
   "outputs": [
    {
     "name": "stdout",
     "output_type": "stream",
     "text": [
      "484.32\n",
      "515.68\n"
     ]
    }
   ],
   "source": [
    "import math\n",
    "\n",
    "SAMPLE = 100\n",
    "M = 500\n",
    "SD = 80\n",
    "Z = 1.96\n",
    "RNG = 0.95\n",
    "\n",
    "print(round(-1.96 * (SD/math.sqrt(SAMPLE)) + M, 2))\n",
    "print(round(1.96 * (SD/math.sqrt(SAMPLE)) + M, 2))"
   ]
  },
  {
   "cell_type": "markdown",
   "metadata": {},
   "source": [
    "Problem Number 8\n",
    "\n",
    "Pearson Correlation Coefficient I\n",
    "\n"
   ]
  },
  {
   "cell_type": "code",
   "execution_count": 8,
   "metadata": {},
   "outputs": [
    {
     "name": "stdout",
     "output_type": "stream",
     "text": [
      "10\n",
      "10 9.8 8 7.8 7.7 7 6 5 4 2\n",
      "200 44 32 24 22 17 15 12 8 4\n",
      "0.612\n"
     ]
    }
   ],
   "source": [
    "def std(x):\n",
    "    return (sum([(i-(sum(x))/len(x))**2 for i in x])/len(x))**0.5\n",
    "\n",
    "N = int(input())\n",
    "X = list(map(float, input().split()))\n",
    "Y = list(map(float, input().split()))\n",
    "\n",
    "X_M = sum(X)/len(X)\n",
    "Y_M = sum(Y)/len(Y)\n",
    "\n",
    "X_S = std(X)\n",
    "Y_S = std(Y)\n",
    "\n",
    "print(round(sum([(i-X_M)*(j-Y_M) for i, j in zip(X, Y)])/(N*X_S*Y_S), 3))\n"
   ]
  },
  {
   "cell_type": "markdown",
   "metadata": {},
   "source": [
    "Problem Number 9\n",
    "\n",
    "Least Square Regression Line\n",
    "\n"
   ]
  },
  {
   "cell_type": "code",
   "execution_count": 9,
   "metadata": {},
   "outputs": [
    {
     "name": "stdout",
     "output_type": "stream",
     "text": [
      "95 85\n",
      "85 95\n",
      "80 70\n",
      "70 65\n",
      "60 70\n",
      "78.288\n"
     ]
    }
   ],
   "source": [
    "def mean(X):\n",
    "    '''To calculate the mean'''\n",
    "    return sum(X)/len(X)\n",
    "\n",
    "def lsr(X, Y):\n",
    "    '''To calculate the Least Square Regression'''\n",
    "    B = sum([(X[i] - mean(X)) * (Y[i] - mean(Y))\n",
    "             for i in range(len(X))])/sum([(j - mean(X))**2 for j in X])\n",
    "    A = mean(Y) - (B*mean(X))\n",
    "    return A+(B*80)\n",
    "\n",
    "X = []\n",
    "Y = []\n",
    "\n",
    "for i in range(5):\n",
    "    A, B = list(map(int, input().split()))\n",
    "    X.append(A)\n",
    "    Y.append(B)\n",
    "\n",
    "print(round(lsr(X, Y), 3))"
   ]
  },
  {
   "cell_type": "markdown",
   "metadata": {},
   "source": [
    "Problem Number 10\n",
    "\n",
    "Multiple Linear Regression"
   ]
  },
  {
   "cell_type": "code",
   "execution_count": 10,
   "metadata": {},
   "outputs": [
    {
     "name": "stdout",
     "output_type": "stream",
     "text": [
      "2 7\n",
      "0.18 0.89 109.85\n",
      "1.0 0.26 155.72\n",
      "0.92 0.11 137.66\n",
      "0.07 0.37 76.17\n",
      "0.85 0.16 139.75\n",
      "0.99 0.41 162.6\n",
      "0.87 0.47 151.77\n",
      "4\n",
      "0.49 0.18\n",
      "105.21\n",
      "0.57 0.83\n",
      "142.67\n",
      "0.56 0.64\n",
      "132.94\n",
      "0.76 0.18\n",
      "129.7\n"
     ]
    }
   ],
   "source": [
    "from sklearn import linear_model\n",
    "\n",
    "M, N = list(map(int, input().strip().split()))\n",
    "X = [0]*N\n",
    "Y = [0]*N\n",
    "\n",
    "for i in range(N):\n",
    "    inp = list(map(float, input().strip().split()))\n",
    "    X[i] = inp[:-1]\n",
    "    Y[i] = inp[-1]\n",
    "\n",
    "LM = linear_model.LinearRegression()\n",
    "LM.fit(X, Y)\n",
    "A = LM.intercept_\n",
    "B = LM.coef_\n",
    "\n",
    "Q = int(input())\n",
    "\n",
    "for i in range(Q):\n",
    "    f = list(map(float, input().strip().split()))\n",
    "    Y = A + sum([B[j] * f[j] for j in range(M)])\n",
    "    print(round(Y, 2))"
   ]
  }
 ],
 "metadata": {
  "kernelspec": {
   "display_name": "Python 3",
   "language": "python",
   "name": "python3"
  },
  "language_info": {
   "codemirror_mode": {
    "name": "ipython",
    "version": 3
   },
   "file_extension": ".py",
   "mimetype": "text/x-python",
   "name": "python",
   "nbconvert_exporter": "python",
   "pygments_lexer": "ipython3",
   "version": "3.8.5"
  }
 },
 "nbformat": 4,
 "nbformat_minor": 4
}
